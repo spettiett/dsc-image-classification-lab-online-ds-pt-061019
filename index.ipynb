{
 "cells": [
  {
   "cell_type": "markdown",
   "metadata": {},
   "source": [
    "# Image Classification - Lab\n",
    "\n",
    "## Introduction\n",
    "\n",
    "Now that you have a working knowledge of CNNs and have practiced implementing associated techniques in Keras, its time to put all of those skills together. In this lab, you'll work to complete a [Kaggle competition](https://www.kaggle.com/c/dog-breed-identification) on classifying dog breeds.\n",
    "\n",
    "\n",
    "## Objectives\n",
    "\n",
    "In this lab you will: \n",
    "\n",
    "- Compare and apply multiple techniques for tuning a model using data augmentation and pretrained models  \n",
    "\n",
    "## Download and Load the Data\n",
    "\n",
    "Start by downloading the data locally and loading it into a Pandas DataFrame. Be forewarned that this dataset is fairly large and it is advisable to close other memory intensive applications.\n",
    "\n",
    "The data can be found [here](https://www.kaggle.com/c/dog-breed-identification/data).\n",
    "\n",
    "It's easiest if you download the data into this directory on your local computer. From there, be sure to uncompress the folder and subfolders. If you download the data elsewhere, be sure to modify the file path when importing the file below."
   ]
  },
  {
   "cell_type": "code",
   "execution_count": 1,
   "metadata": {
    "ExecuteTime": {
     "end_time": "2020-03-03T15:54:00.266940Z",
     "start_time": "2020-03-03T15:54:00.158941Z"
    }
   },
   "outputs": [
    {
     "name": "stdout",
     "output_type": "stream",
     "text": [
      "Baseline_CNN.h5\n",
      "Baseline_CNN_dog_subset_run2.h5\n",
      "CONTRIBUTING.md\n",
      "data_org_subset\n",
      "dog_breeds\n",
      "history_vgg19__3breeds_4epochs.pickle\n",
      "history_vgg19_10epochs.pickle\n",
      "index.ipynb\n",
      "LICENSE.md\n",
      "multiclass_cnfmatx.png\n",
      "README.md\n",
      "test\n",
      "train\n",
      "val\n",
      "vgg19_3breeds_4epochs.h5\n",
      "vgg19_FE_AUG_10epochs.h5\n",
      "vgg19_FE_AUG_15epochs.h5\n"
     ]
    }
   ],
   "source": [
    "# No code per se, but download and decompress the data\n",
    "!ls"
   ]
  },
  {
   "cell_type": "code",
   "execution_count": 2,
   "metadata": {
    "ExecuteTime": {
     "end_time": "2020-03-03T15:54:01.625334Z",
     "start_time": "2020-03-03T15:54:00.271939Z"
    }
   },
   "outputs": [],
   "source": [
    "import pandas as pd\n",
    "import numpy as np"
   ]
  },
  {
   "cell_type": "markdown",
   "metadata": {},
   "source": [
    "## Preprocessing\n",
    "\n",
    "Now that you've downloaded the data, its time to prepare it for some model building! You'll notice that the current structure provided is not the same as our lovely preprocessed folders that you've been given to date. Instead, you have one large training folder with images and a csv file with labels associated with each of these file types. \n",
    "\n",
    "Use this to create a directory substructure for a train-validation-test split as we have done previously. Also recall that you'll also want to use one-hot encoding as you are now presented with a multi-class problem as opposed to simple binary classification."
   ]
  },
  {
   "cell_type": "code",
   "execution_count": 3,
   "metadata": {
    "ExecuteTime": {
     "end_time": "2020-03-03T15:54:01.635248Z",
     "start_time": "2020-03-03T15:54:01.629252Z"
    }
   },
   "outputs": [],
   "source": [
    "# Your code here; open the labels.csv file stored in the zip file"
   ]
  },
  {
   "cell_type": "code",
   "execution_count": 4,
   "metadata": {
    "ExecuteTime": {
     "end_time": "2020-03-03T15:54:19.471675Z",
     "start_time": "2020-03-03T15:54:01.642252Z"
    }
   },
   "outputs": [
    {
     "name": "stdout",
     "output_type": "stream",
     "text": [
      "total 373708\n",
      "-rw-r--r-- 1 deon 197609   43452 Feb 28 19:00 fff43b07992508bc822f33d8ffd902ae.jpg\n",
      "-rw-r--r-- 1 deon 197609   40384 Feb 28 19:00 ffe5f6d8e2bff356e9482a80a6e29aac.jpg\n",
      "-rw-r--r-- 1 deon 197609   23065 Feb 28 19:00 ffe2ca6c940cddfee68fa3cc6c63213f.jpg\n",
      "-rw-r--r-- 1 deon 197609   38920 Feb 28 19:00 ffd3f636f7f379c51ba3648a9ff8254f.jpg\n"
     ]
    },
    {
     "name": "stderr",
     "output_type": "stream",
     "text": [
      "ls: write error\n"
     ]
    }
   ],
   "source": [
    "!ls -lt dog_breeds/train/ | head -5"
   ]
  },
  {
   "cell_type": "code",
   "execution_count": 5,
   "metadata": {
    "ExecuteTime": {
     "end_time": "2020-03-03T15:54:19.581029Z",
     "start_time": "2020-03-03T15:54:19.475677Z"
    }
   },
   "outputs": [
    {
     "data": {
      "text/html": [
       "<div>\n",
       "<style scoped>\n",
       "    .dataframe tbody tr th:only-of-type {\n",
       "        vertical-align: middle;\n",
       "    }\n",
       "\n",
       "    .dataframe tbody tr th {\n",
       "        vertical-align: top;\n",
       "    }\n",
       "\n",
       "    .dataframe thead th {\n",
       "        text-align: right;\n",
       "    }\n",
       "</style>\n",
       "<table border=\"1\" class=\"dataframe\">\n",
       "  <thead>\n",
       "    <tr style=\"text-align: right;\">\n",
       "      <th></th>\n",
       "      <th>id</th>\n",
       "      <th>breed</th>\n",
       "    </tr>\n",
       "  </thead>\n",
       "  <tbody>\n",
       "    <tr>\n",
       "      <th>0</th>\n",
       "      <td>000bec180eb18c7604dcecc8fe0dba07</td>\n",
       "      <td>boston_bull</td>\n",
       "    </tr>\n",
       "    <tr>\n",
       "      <th>1</th>\n",
       "      <td>001513dfcb2ffafc82cccf4d8bbaba97</td>\n",
       "      <td>dingo</td>\n",
       "    </tr>\n",
       "    <tr>\n",
       "      <th>2</th>\n",
       "      <td>001cdf01b096e06d78e9e5112d419397</td>\n",
       "      <td>pekinese</td>\n",
       "    </tr>\n",
       "    <tr>\n",
       "      <th>3</th>\n",
       "      <td>00214f311d5d2247d5dfe4fe24b2303d</td>\n",
       "      <td>bluetick</td>\n",
       "    </tr>\n",
       "    <tr>\n",
       "      <th>4</th>\n",
       "      <td>0021f9ceb3235effd7fcde7f7538ed62</td>\n",
       "      <td>golden_retriever</td>\n",
       "    </tr>\n",
       "  </tbody>\n",
       "</table>\n",
       "</div>"
      ],
      "text/plain": [
       "                                 id             breed\n",
       "0  000bec180eb18c7604dcecc8fe0dba07       boston_bull\n",
       "1  001513dfcb2ffafc82cccf4d8bbaba97             dingo\n",
       "2  001cdf01b096e06d78e9e5112d419397          pekinese\n",
       "3  00214f311d5d2247d5dfe4fe24b2303d          bluetick\n",
       "4  0021f9ceb3235effd7fcde7f7538ed62  golden_retriever"
      ]
     },
     "execution_count": 5,
     "metadata": {},
     "output_type": "execute_result"
    }
   ],
   "source": [
    "df = pd.read_csv('dog_breeds/labels.csv')\n",
    "df.head()"
   ]
  },
  {
   "cell_type": "code",
   "execution_count": 6,
   "metadata": {
    "ExecuteTime": {
     "end_time": "2020-03-03T15:54:19.599029Z",
     "start_time": "2020-03-03T15:54:19.586028Z"
    }
   },
   "outputs": [
    {
     "data": {
      "text/plain": [
       "(120,\n",
       " array(['boston_bull', 'dingo', 'pekinese', 'bluetick', 'golden_retriever',\n",
       "        'bedlington_terrier', 'borzoi', 'basenji', 'scottish_deerhound',\n",
       "        'shetland_sheepdog', 'walker_hound', 'maltese_dog',\n",
       "        'norfolk_terrier', 'african_hunting_dog',\n",
       "        'wire-haired_fox_terrier', 'redbone', 'lakeland_terrier', 'boxer',\n",
       "        'doberman', 'otterhound', 'standard_schnauzer',\n",
       "        'irish_water_spaniel', 'black-and-tan_coonhound', 'cairn',\n",
       "        'affenpinscher', 'labrador_retriever', 'ibizan_hound',\n",
       "        'english_setter', 'weimaraner', 'giant_schnauzer', 'groenendael',\n",
       "        'dhole', 'toy_poodle', 'border_terrier', 'tibetan_terrier',\n",
       "        'norwegian_elkhound', 'shih-tzu', 'irish_terrier', 'kuvasz',\n",
       "        'german_shepherd', 'greater_swiss_mountain_dog', 'basset',\n",
       "        'australian_terrier', 'schipperke', 'rhodesian_ridgeback',\n",
       "        'irish_setter', 'appenzeller', 'bloodhound', 'samoyed',\n",
       "        'miniature_schnauzer', 'brittany_spaniel', 'kelpie', 'papillon',\n",
       "        'border_collie', 'entlebucher', 'collie', 'malamute',\n",
       "        'welsh_springer_spaniel', 'chihuahua', 'saluki', 'pug', 'malinois',\n",
       "        'komondor', 'airedale', 'leonberg', 'mexican_hairless',\n",
       "        'bull_mastiff', 'bernese_mountain_dog',\n",
       "        'american_staffordshire_terrier', 'lhasa', 'cardigan',\n",
       "        'italian_greyhound', 'clumber', 'scotch_terrier', 'afghan_hound',\n",
       "        'old_english_sheepdog', 'saint_bernard', 'miniature_pinscher',\n",
       "        'eskimo_dog', 'irish_wolfhound', 'brabancon_griffon',\n",
       "        'toy_terrier', 'chow', 'flat-coated_retriever', 'norwich_terrier',\n",
       "        'soft-coated_wheaten_terrier', 'staffordshire_bullterrier',\n",
       "        'english_foxhound', 'gordon_setter', 'siberian_husky',\n",
       "        'newfoundland', 'briard', 'chesapeake_bay_retriever',\n",
       "        'dandie_dinmont', 'great_pyrenees', 'beagle', 'vizsla',\n",
       "        'west_highland_white_terrier', 'kerry_blue_terrier', 'whippet',\n",
       "        'sealyham_terrier', 'standard_poodle', 'keeshond',\n",
       "        'japanese_spaniel', 'miniature_poodle', 'pomeranian',\n",
       "        'curly-coated_retriever', 'yorkshire_terrier', 'pembroke',\n",
       "        'great_dane', 'blenheim_spaniel', 'silky_terrier',\n",
       "        'sussex_spaniel', 'german_short-haired_pointer', 'french_bulldog',\n",
       "        'bouvier_des_flandres', 'tibetan_mastiff', 'english_springer',\n",
       "        'cocker_spaniel', 'rottweiler'], dtype=object))"
      ]
     },
     "execution_count": 6,
     "metadata": {},
     "output_type": "execute_result"
    }
   ],
   "source": [
    "df['breed'].nunique(),  df['breed'].unique()"
   ]
  },
  {
   "cell_type": "code",
   "execution_count": 7,
   "metadata": {
    "ExecuteTime": {
     "end_time": "2020-03-03T15:54:36.959525Z",
     "start_time": "2020-03-03T15:54:19.603029Z"
    }
   },
   "outputs": [
    {
     "name": "stdout",
     "output_type": "stream",
     "text": [
      "total 375272\n",
      "-rw-r--r-- 1 deon 197609   60993 Feb 28 18:56 fffbff22c1f51e3dc80c4bf04089545b.jpg\n",
      "-rw-r--r-- 1 deon 197609   22315 Feb 28 18:56 fff7d50d848e8014ac1e9172dc6762a3.jpg\n",
      "-rw-r--r-- 1 deon 197609   10120 Feb 28 18:56 fff74b59b758bbbf13a5793182a9bbe4.jpg\n",
      "-rw-r--r-- 1 deon 197609   27101 Feb 28 18:56 fff1ec9e6e413275984966f745a313b0.jpg\n"
     ]
    },
    {
     "name": "stderr",
     "output_type": "stream",
     "text": [
      "ls: write error\n"
     ]
    }
   ],
   "source": [
    "!ls -lt dog_breeds/test/ | head -5"
   ]
  },
  {
   "cell_type": "markdown",
   "metadata": {},
   "source": [
    "\n",
    "In order to input the data into our standard pipeline, you'll need to organize the image files into a nested folder structure. At the top level will be a folder for the training data, a folder for the validation data, and a folder for the test data. Within these top directory folders, you'll then need to create a folder for each of the categorical classes (in this case, dog breeds). Finally, within these category folders you'll then place each of the associated image files. To save time, do this for just 3 of the dog breeds such as `'boston_bull'`, `'toy_poodle'`, and `'scottish_deerhound'`.\n",
    "\n",
    "You're nested file structure should look like this:\n",
    "* train\n",
    "    * category_1\n",
    "    * category_2\n",
    "    * category_3\n",
    "    ...\n",
    "* val\n",
    "    * category_1\n",
    "    * category_2\n",
    "    * category_3\n",
    "    ...\n",
    "* test \n",
    "    * category_1\n",
    "    * category_2\n",
    "    * category_3\n",
    "    ...  \n",
    "\n",
    "> **Hint**: To do this, you can use the `os` module which will you can use to execute many common bash commands straight from your python interpreter. For example, here's how you could make a new folder: \n",
    "\n",
    "```python\n",
    "import os\n",
    "os.mkdir('New_Folder_Name')\n",
    "```\n",
    "Start by creating top level folders for the train, validation, and test sets. Then, use your pandas DataFrame to split the example images for each breed of dog into a 80% train set, and 10% validation and test sets. Use `os.path.join()` with the information from the DataFrame to construct the relevant file path. With this, place the relevant images using the `shutil.copy()` into the appropriate directory. \n",
    "\n",
    ">> **Note**: It is worthwhile to try this exercise on your own, but you can also use the images stored under the `'data_org_subset/'` folder of this repository, in which the Kaggle dataset has already been subset and preprocessed."
   ]
  },
  {
   "cell_type": "code",
   "execution_count": 8,
   "metadata": {
    "ExecuteTime": {
     "end_time": "2020-03-03T15:54:36.970523Z",
     "start_time": "2020-03-03T15:54:36.966521Z"
    }
   },
   "outputs": [],
   "source": [
    "# import os\n",
    "# os.mkdir('./train')\n",
    "# os.mkdir('./test')\n",
    "# os.mkdir('./val')"
   ]
  },
  {
   "cell_type": "code",
   "execution_count": 9,
   "metadata": {
    "ExecuteTime": {
     "end_time": "2020-03-03T15:54:37.000520Z",
     "start_time": "2020-03-03T15:54:36.976521Z"
    }
   },
   "outputs": [
    {
     "name": "stdout",
     "output_type": "stream",
     "text": [
      "Number of unique breeds: 120\n",
      "scottish_deerhound      126\n",
      "maltese_dog             117\n",
      "afghan_hound            116\n",
      "entlebucher             115\n",
      "bernese_mountain_dog    114\n",
      "shih-tzu                112\n",
      "great_pyrenees          111\n",
      "pomeranian              111\n",
      "basenji                 110\n",
      "samoyed                 109\n",
      "Name: breed, dtype: int64\n"
     ]
    }
   ],
   "source": [
    "print('Number of unique breeds:', df.breed.nunique())\n",
    "print(df.breed.value_counts()[:10])"
   ]
  },
  {
   "cell_type": "code",
   "execution_count": 10,
   "metadata": {
    "ExecuteTime": {
     "end_time": "2020-03-03T15:54:38.190749Z",
     "start_time": "2020-03-03T15:54:37.006521Z"
    }
   },
   "outputs": [
    {
     "name": "stdout",
     "output_type": "stream",
     "text": [
      "Moving boston_bull pictures.\n",
      "Split 87 imgs into 69 train, 9 val, and 9 test examples.\n",
      "Moving toy_poodle pictures.\n",
      "Split 80 imgs into 64 train, 8 val, and 8 test examples.\n",
      "Moving scottish_deerhound pictures.\n",
      "Split 126 imgs into 100 train, 13 val, and 13 test examples.\n"
     ]
    }
   ],
   "source": [
    "import numpy as np\n",
    "import os, shutil\n",
    "\n",
    "old_dir = 'dog_breeds/train/'\n",
    "\n",
    "new_root_dir = 'data_org_subset/'\n",
    "# Because this cell has already been run and this directory now exists, running this cell again will throw an error\n",
    "# os.mkdir(new_root_dir) \n",
    "\n",
    "dir_names = ['train', 'val', 'test']\n",
    "for d in dir_names:\n",
    "    new_dir = os.path.join(new_root_dir, d)\n",
    "    #os.mkdir(new_dir)\n",
    "    \n",
    "for breed in ['boston_bull', 'toy_poodle', 'scottish_deerhound']:\n",
    "    print('Moving {} pictures.'.format(breed))\n",
    "    # Create sub_directories\n",
    "    for d in dir_names:\n",
    "        new_dir = os.path.join(new_root_dir, d, breed)\n",
    "        #os.mkdir(new_dir)\n",
    "    # Subset dataframe into train, validate and split sets\n",
    "    # Split is performed here to ensure maintain class distributions.\n",
    "    temp = df[df.breed == breed]\n",
    "    train, validate, test = np.split(temp.sample(frac=1), [int(.8*len(temp)), int(.9*len(temp))])\n",
    "    print('Split {} imgs into {} train, {} val, and {} test examples.'.format(len(temp),\n",
    "                                                                              len(train),\n",
    "                                                                              len(validate),\n",
    "                                                                              len(test)))\n",
    "    for i, temp in enumerate([train, validate, test]):\n",
    "        for row in temp.index:\n",
    "            filename = temp['id'][row] + '.jpg'\n",
    "            origin = os.path.join(old_dir + filename)\n",
    "            destination = os.path.join(new_root_dir + dir_names[i] + '/' + breed + '/' + filename)\n",
    "            shutil.copy(origin, destination)"
   ]
  },
  {
   "cell_type": "code",
   "execution_count": 11,
   "metadata": {
    "ExecuteTime": {
     "end_time": "2020-03-03T15:54:38.199746Z",
     "start_time": "2020-03-03T15:54:38.195744Z"
    }
   },
   "outputs": [],
   "source": [
    "# Your code here; transform the image files and then load them into Keras as tensors \n",
    "# (be sure to perform a train-val-test split)"
   ]
  },
  {
   "cell_type": "code",
   "execution_count": 12,
   "metadata": {
    "ExecuteTime": {
     "end_time": "2020-03-03T15:54:49.265788Z",
     "start_time": "2020-03-03T15:54:38.205763Z"
    }
   },
   "outputs": [
    {
     "name": "stderr",
     "output_type": "stream",
     "text": [
      "Using TensorFlow backend.\n"
     ]
    },
    {
     "name": "stdout",
     "output_type": "stream",
     "text": [
      "Found 293 images belonging to 3 classes.\n",
      "Found 106 images belonging to 3 classes.\n"
     ]
    }
   ],
   "source": [
    "# Your code here\n",
    "from keras.preprocessing.image import ImageDataGenerator\n",
    "\n",
    "train_dir = '{}train'.format(new_root_dir)\n",
    "\n",
    "validation_dir = '{}val/'.format(new_root_dir)\n",
    "test_dir = '{}test/'.format(new_root_dir)\n",
    "\n",
    "# All images will be rescaled by 1./255\n",
    "train_datagen = ImageDataGenerator(rescale=1./255)\n",
    "test_datagen = ImageDataGenerator(rescale=1./255)\n",
    "\n",
    "train_generator = train_datagen.flow_from_directory(\n",
    "        # This is the target directory\n",
    "        train_dir,\n",
    "        # All images will be resized to 150x150\n",
    "        target_size=(150, 150),\n",
    "        batch_size=20,\n",
    "        class_mode='categorical')\n",
    "\n",
    "validation_generator = test_datagen.flow_from_directory(validation_dir, \n",
    "                                                        target_size=(150, 150), \n",
    "                                                        batch_size=20, \n",
    "                                                        class_mode='categorical')\n",
    "\n",
    "# Found 233 images belonging to 3 classes.\n",
    "# Found 30 images belonging to 3 classes."
   ]
  },
  {
   "cell_type": "code",
   "execution_count": 13,
   "metadata": {
    "ExecuteTime": {
     "end_time": "2020-03-03T15:54:49.287749Z",
     "start_time": "2020-03-03T15:54:49.275755Z"
    }
   },
   "outputs": [
    {
     "data": {
      "text/plain": [
       "{'boston_bull': 0, 'scottish_deerhound': 1, 'toy_poodle': 2}"
      ]
     },
     "execution_count": 13,
     "metadata": {},
     "output_type": "execute_result"
    }
   ],
   "source": [
    "train_generator.class_indices\n",
    "#{'boston_bull': 0, 'scottish_deerhound': 1, 'toy_poodle': 2}"
   ]
  },
  {
   "cell_type": "markdown",
   "metadata": {},
   "source": [
    "## Optional: Build a Baseline CNN\n",
    "\n",
    "This is an optional step. Adapting a pretrained model will produce better results, but it may be interesting to create a CNN from scratch as a baseline. If you wish to, do so here."
   ]
  },
  {
   "cell_type": "code",
   "execution_count": 14,
   "metadata": {
    "ExecuteTime": {
     "end_time": "2020-03-03T15:54:49.303751Z",
     "start_time": "2020-03-03T15:54:49.295757Z"
    }
   },
   "outputs": [],
   "source": [
    "# Create a baseline CNN model\n",
    "import datetime\n",
    "start = datetime.datetime.now()\n",
    "\n",
    "\n",
    "from keras import models\n",
    "from keras import layers\n",
    "from keras import optimizers\n"
   ]
  },
  {
   "cell_type": "code",
   "execution_count": 15,
   "metadata": {
    "ExecuteTime": {
     "end_time": "2020-03-03T15:54:49.567823Z",
     "start_time": "2020-03-03T15:54:49.309749Z"
    }
   },
   "outputs": [],
   "source": [
    "# Build CNN Model\n",
    "\n",
    "cnn = models.Sequential()\n",
    "cnn.add(layers.Conv2D(32, (3, 3), activation='relu',\n",
    "                        input_shape=(150, 150, 3)))\n",
    "cnn.add(layers.MaxPooling2D(2,2))  # Reduce Feature Map to (2,2)\n",
    "cnn.add(layers.Conv2D(64, (3,3), activation='relu',))\n",
    "cnn.add(layers.MaxPooling2D(2,2))\n",
    "cnn.add(layers.Conv2D(128, (3,3), activation='relu',))\n",
    "cnn.add(layers.MaxPooling2D(2,2))\n",
    "# cnn.add(layers.Conv2D(128, (3,3), activation='relu',))\n",
    "# cnn.add(layers.MaxPooling2D(2,2))\n",
    "cnn.add(layers.Flatten())  # Convert input to vector on values into nn dense layer\n",
    "cnn.add(layers.Dense(units=64, activation='relu'))\n",
    "cnn.add(layers.Dense(units=128, activation='relu'))\n",
    "cnn.add(layers.Dense(units=256, activation='relu'))\n",
    "#cnn.add(layers.Dense(units=512, activation='relu'))\n",
    "cnn.add(layers.Dense(units=3, activation='softmax'))  # Output layer with (3-known labels)"
   ]
  },
  {
   "cell_type": "code",
   "execution_count": 16,
   "metadata": {
    "ExecuteTime": {
     "end_time": "2020-03-03T16:01:20.311270Z",
     "start_time": "2020-03-03T15:54:49.570750Z"
    }
   },
   "outputs": [
    {
     "name": "stdout",
     "output_type": "stream",
     "text": [
      "Epoch 1/10\n",
      "50/50 [==============================] - 41s 825ms/step - loss: 1.0462 - accuracy: 0.4617 - val_loss: 0.8731 - val_accuracy: 0.5000\n",
      "Epoch 2/10\n",
      "50/50 [==============================] - 38s 766ms/step - loss: 0.6336 - accuracy: 0.7500 - val_loss: 0.5232 - val_accuracy: 0.8018\n",
      "Epoch 3/10\n",
      "50/50 [==============================] - 39s 784ms/step - loss: 0.1603 - accuracy: 0.9489 - val_loss: 0.0053 - val_accuracy: 0.9707\n",
      "Epoch 4/10\n",
      "50/50 [==============================] - 38s 769ms/step - loss: 0.0545 - accuracy: 0.9826 - val_loss: 0.0018 - val_accuracy: 1.0000\n",
      "Epoch 5/10\n",
      "50/50 [==============================] - 38s 765ms/step - loss: 0.0135 - accuracy: 0.9979 - val_loss: 5.2362e-04 - val_accuracy: 1.0000\n",
      "Epoch 6/10\n",
      "50/50 [==============================] - 38s 768ms/step - loss: 0.1371 - accuracy: 0.9530 - val_loss: 0.0191 - val_accuracy: 1.0000\n",
      "Epoch 7/10\n",
      "50/50 [==============================] - 38s 764ms/step - loss: 0.0207 - accuracy: 0.9959 - val_loss: 5.8953e-04 - val_accuracy: 1.0000\n",
      "Epoch 8/10\n",
      "50/50 [==============================] - 39s 778ms/step - loss: 4.3905e-04 - accuracy: 1.0000 - val_loss: 1.5748e-04 - val_accuracy: 1.0000\n",
      "Epoch 9/10\n",
      "50/50 [==============================] - 39s 787ms/step - loss: 1.7435e-04 - accuracy: 1.0000 - val_loss: 6.7470e-05 - val_accuracy: 1.0000\n",
      "Epoch 10/10\n",
      "50/50 [==============================] - 39s 779ms/step - loss: 1.1483e-04 - accuracy: 1.0000 - val_loss: 5.1043e-05 - val_accuracy: 1.0000\n"
     ]
    }
   ],
   "source": [
    "# Compile CNN Model\n",
    "cnn.compile(optimizer='adam',\n",
    "            loss='categorical_crossentropy',\n",
    "            metrics = ['accuracy'])\n",
    "\n",
    "history = cnn.fit_generator(train_generator,\n",
    "                            steps_per_epoch = 50,  # = 100\n",
    "                            epochs=10,\n",
    "                            validation_data=validation_generator,\n",
    "                            validation_steps = 25) # = 50 )"
   ]
  },
  {
   "cell_type": "code",
   "execution_count": 17,
   "metadata": {
    "ExecuteTime": {
     "end_time": "2020-03-03T16:01:20.325268Z",
     "start_time": "2020-03-03T16:01:20.316272Z"
    }
   },
   "outputs": [
    {
     "name": "stdout",
     "output_type": "stream",
     "text": [
      "Training took a Total of - Time Elapsed: -1 day, 23:53:28.979481\n"
     ]
    }
   ],
   "source": [
    "end = datetime.datetime.now()\n",
    "time_elapsed = start-end\n",
    "print(f'Training took a Total of - Time Elapsed: {time_elapsed}')"
   ]
  },
  {
   "cell_type": "code",
   "execution_count": 18,
   "metadata": {
    "ExecuteTime": {
     "end_time": "2020-03-03T16:01:21.716274Z",
     "start_time": "2020-03-03T16:01:20.330271Z"
    }
   },
   "outputs": [
    {
     "data": {
      "image/png": "[encoded data removed]",
      "text/plain": [
       "<Figure size 432x288 with 1 Axes>"
      ]
     },
     "metadata": {
      "needs_background": "light"
     },
     "output_type": "display_data"
    },
    {
     "data": {
      "image/png": "[encoded data removed]",
      "text/plain": [
       "<Figure size 432x288 with 1 Axes>"
      ]
     },
     "metadata": {
      "needs_background": "light"
     },
     "output_type": "display_data"
    }
   ],
   "source": [
    "import matplotlib.pyplot as plt\n",
    "%matplotlib inline \n",
    "\n",
    "acc = history.history['accuracy']\n",
    "val_acc = history.history['val_accuracy']\n",
    "loss = history.history['loss']\n",
    "val_loss = history.history['val_loss']\n",
    "epochs = range(len(acc))\n",
    "plt.plot(epochs, acc, 'bo', label='Training acc')\n",
    "plt.plot(epochs, val_acc, 'b', label='Validation acc')\n",
    "plt.title('Training and validation accuracy')\n",
    "plt.legend()\n",
    "plt.figure()\n",
    "plt.plot(epochs, loss, 'bo', label='Training loss')\n",
    "plt.plot(epochs, val_loss, 'b', label='Validation loss')\n",
    "plt.title('Training and validation loss')\n",
    "plt.legend()\n",
    "plt.show()"
   ]
  },
  {
   "cell_type": "code",
   "execution_count": 19,
   "metadata": {
    "ExecuteTime": {
     "end_time": "2020-03-03T16:01:41.443275Z",
     "start_time": "2020-03-03T16:01:21.723274Z"
    }
   },
   "outputs": [
    {
     "name": "stdout",
     "output_type": "stream",
     "text": [
      "Found 101 images belonging to 3 classes.\n",
      "Generated 909 predictions\n",
      "test acc: 1.0\n"
     ]
    }
   ],
   "source": [
    "cnn.save('Baseline_CNN_dog_subset_run2.h5')\n",
    "test_generator = test_datagen.flow_from_directory(test_dir,\n",
    "                                                  target_size=(150, 150),\n",
    "                                                  batch_size=20,\n",
    "                                                  class_mode='categorical',\n",
    "                                                  shuffle=False)\n",
    "\n",
    "test_loss, test_acc = cnn.evaluate_generator(test_generator, steps=54)\n",
    "y_hat_test = cnn.predict_generator(test_generator, steps=54)\n",
    "print('Generated {} predictions'.format(len(y_hat_test)))\n",
    "print('test acc:', test_acc)\n",
    "\n",
    "# Found 30 images belonging to 3 classes.\n",
    "# Generated 810 predictions\n",
    "# test acc: 0.7333333492279053"
   ]
  },
  {
   "cell_type": "markdown",
   "metadata": {},
   "source": [
    "## Loading a Pretrained CNN\n",
    "\n",
    "## Feature Engineering with the Pretrained Model\n",
    "\n",
    "As you may well have guessed, adapting a pretrained model will undoubtedly produce better results then a fresh CNN due to the limited size of training data. Import a pretrained model such as VGG-19 to use a convolutional base. Use this to transform the dataset into a rich feature space and add a few fully connected layers on top of the pretrained layers to build a classification model. (Be sure to leave the pretrained model frozen!)"
   ]
  },
  {
   "cell_type": "code",
   "execution_count": 20,
   "metadata": {
    "ExecuteTime": {
     "end_time": "2020-03-03T16:01:41.454270Z",
     "start_time": "2020-03-03T16:01:41.448272Z"
    }
   },
   "outputs": [],
   "source": [
    "# Your code here; add fully connected layers on top of the convolutional base"
   ]
  },
  {
   "cell_type": "code",
   "execution_count": 21,
   "metadata": {
    "ExecuteTime": {
     "end_time": "2020-03-03T16:01:42.650271Z",
     "start_time": "2020-03-03T16:01:41.460272Z"
    }
   },
   "outputs": [
    {
     "name": "stdout",
     "output_type": "stream",
     "text": [
      "vgg19 False\n",
      "flatten_2 True\n",
      "dense_5 True\n",
      "dense_6 True\n",
      "dense_7 True\n",
      "dense_8 True\n",
      "dense_9 True\n",
      "10\n",
      "Model: \"sequential_2\"\n",
      "_________________________________________________________________\n",
      "Layer (type)                 Output Shape              Param #   \n",
      "=================================================================\n",
      "vgg19 (Model)                (None, 7, 7, 512)         20024384  \n",
      "_________________________________________________________________\n",
      "flatten_2 (Flatten)          (None, 25088)             0         \n",
      "_________________________________________________________________\n",
      "dense_5 (Dense)              (None, 64)                1605696   \n",
      "_________________________________________________________________\n",
      "dense_6 (Dense)              (None, 128)               8320      \n",
      "_________________________________________________________________\n",
      "dense_7 (Dense)              (None, 256)               33024     \n",
      "_________________________________________________________________\n",
      "dense_8 (Dense)              (None, 128)               32896     \n",
      "_________________________________________________________________\n",
      "dense_9 (Dense)              (None, 3)                 387       \n",
      "=================================================================\n",
      "Total params: 21,704,707\n",
      "Trainable params: 1,680,323\n",
      "Non-trainable params: 20,024,384\n",
      "_________________________________________________________________\n"
     ]
    }
   ],
   "source": [
    "# Your code here; add fully connected layers on top of the convolutional base\n",
    "# from keras.preprocessing.image import ImageDataGenerator, array_to_img\n",
    "\n",
    "# Initialize Base\n",
    "from keras.applications import VGG19\n",
    "cnn_base = VGG19(weights='imagenet',\n",
    "                 include_top=False,\n",
    "                 input_shape=(240, 240, 3))\n",
    "\n",
    "# Define Model Architecture -----------  QUESTION:  Should I be using cnn. (instead of model. ?)\n",
    "cnn = models.Sequential()\n",
    "cnn.add(cnn_base)\n",
    "cnn.add(layers.Flatten())\n",
    "cnn.add(layers.Dense(64, activation='relu'))\n",
    "cnn.add(layers.Dense(128, activation='relu'))\n",
    "cnn.add(layers.Dense(256, activation='relu'))\n",
    "cnn.add(layers.Dense(128, activation='relu'))\n",
    "cnn.add(layers.Dense(3, activation='softmax'))\n",
    "\n",
    "cnn_base.trainable = False\n",
    "\n",
    "# You can check whether a layer is trainable (or alter its setting) through the layer.trainable attribute\n",
    "for layer in cnn.layers:\n",
    "    print(layer.name, layer.trainable)\n",
    "    \n",
    "# Similarly, we can check how many trainable weights are in the model \n",
    "print(len(cnn.trainable_weights))\n",
    "\n",
    "cnn.summary()\n",
    "\n",
    "# vgg19 False\n",
    "# flatten_1 True\n",
    "# dense_1 True\n",
    "# dense_2 True\n",
    "# dense_3 True\n",
    "# dense_4 True\n",
    "# dense_5 True\n",
    "# 10\n",
    "\n",
    "\n",
    "# model.\n",
    "# vgg19 False\n",
    "# flatten_3 True\n",
    "# dense_8 True\n",
    "# dense_9 True\n",
    "# dense_10 True\n",
    "# dense_11 True\n",
    "# dense_12 True\n",
    "# 10\n",
    "# Model: \"sequential_7\""
   ]
  },
  {
   "cell_type": "code",
   "execution_count": 22,
   "metadata": {
    "ExecuteTime": {
     "end_time": "2020-03-03T16:11:53.891580Z",
     "start_time": "2020-03-03T16:01:42.654271Z"
    }
   },
   "outputs": [
    {
     "name": "stdout",
     "output_type": "stream",
     "text": [
      "Found 293 images belonging to 3 classes.\n",
      "Found 106 images belonging to 3 classes.\n",
      "Found 101 images belonging to 3 classes.\n",
      "Epoch 1/4\n",
      "8/8 [==============================] - 160s 20s/step - loss: 1.0840 - acc: 0.4062 - val_loss: 0.9809 - val_acc: 0.5323\n",
      "Epoch 2/4\n",
      "8/8 [==============================] - 147s 18s/step - loss: 1.0730 - acc: 0.4314 - val_loss: 0.9783 - val_acc: 0.4884\n",
      "Epoch 3/4\n",
      "8/8 [==============================] - 146s 18s/step - loss: 1.0464 - acc: 0.4248 - val_loss: 0.9738 - val_acc: 0.5698\n",
      "Epoch 4/4\n",
      "8/8 [==============================] - 156s 20s/step - loss: 0.9842 - acc: 0.5125 - val_loss: 0.9412 - val_acc: 0.6183\n",
      "Training took a total of 0:10:11.218318\n"
     ]
    }
   ],
   "source": [
    "# Preprocessing/Problem Setup\n",
    "new_root_dir = 'data_org_subset/'\n",
    "\n",
    "train_dir = '{}train'.format(new_root_dir)\n",
    "validation_dir = '{}val/'.format(new_root_dir)\n",
    "test_dir = '{}test/'.format(new_root_dir)\n",
    "\n",
    "original_start = datetime.datetime.now()\n",
    "start = datetime.datetime.now()\n",
    "\n",
    "# Define Initial Parameters (same as previous code block)\n",
    "datagen = ImageDataGenerator(rescale=1./255) \n",
    "batch_size = 10\n",
    "\n",
    "# Get all the data in the directory split/train (542 images), and reshape them\n",
    "train_datagen = ImageDataGenerator(rescale=1./255,\n",
    "                                   rotation_range=40,\n",
    "                                   width_shift_range=0.2,\n",
    "                                   height_shift_range=0.2,\n",
    "                                   shear_range=0.2,\n",
    "                                   zoom_range=0.2,\n",
    "                                   horizontal_flip=True,\n",
    "                                   fill_mode='nearest')\n",
    "\n",
    "\n",
    "test_datagen = ImageDataGenerator(rescale=1./255,\n",
    "                                  rotation_range=40,\n",
    "                                  width_shift_range=0.2,\n",
    "                                  height_shift_range=0.2,\n",
    "                                  shear_range=0.2,\n",
    "                                  zoom_range=0.2,\n",
    "                                  horizontal_flip=True,\n",
    "                                  fill_mode='nearest')\n",
    "\n",
    "train_generator = train_datagen.flow_from_directory(train_dir, \n",
    "                                                    target_size=(240, 240), \n",
    "                                                    batch_size= 20,\n",
    "                                                    class_mode='categorical') \n",
    "\n",
    "# Get all the data in the directory split/validation (200 images), and reshape them\n",
    "val_generator = ImageDataGenerator(rescale=1./255).flow_from_directory(validation_dir, \n",
    "                                                                       target_size=(240, 240), \n",
    "                                                                       batch_size=20,\n",
    "                                                                       class_mode='categorical')\n",
    "\n",
    "# Get all the data in the directory split/test (180 images), and reshape them\n",
    "test_generator = ImageDataGenerator(rescale=1./255).flow_from_directory(test_dir, \n",
    "                                                                        target_size=(240, 240), \n",
    "                                                                        batch_size=180,\n",
    "                                                                        class_mode='categorical',\n",
    "                                                                        shuffle=False)\n",
    "\n",
    "        \n",
    "test_images, test_labels = next(test_generator)\n",
    "\n",
    "\n",
    "# Compilation\n",
    "cnn.compile(loss='categorical_crossentropy',\n",
    "              optimizer=optimizers.RMSprop(lr=2e-5),\n",
    "              metrics=['acc'])\n",
    "\n",
    "# Fitting the Model\n",
    "history = cnn.fit_generator(train_generator,\n",
    "                              steps_per_epoch=8,\n",
    "                              epochs=4,\n",
    "                              validation_data=val_generator,\n",
    "                              validation_steps=10)\n",
    "\n",
    "\n",
    "end = datetime.datetime.now()\n",
    "elapsed = end - start\n",
    "print('Training took a total of {}'.format(elapsed))"
   ]
  },
  {
   "cell_type": "markdown",
   "metadata": {},
   "source": [
    "## Visualize History\n",
    "\n",
    "Now fit the model and visualize the training and validation accuracy/loss functions over successive epochs."
   ]
  },
  {
   "cell_type": "code",
   "execution_count": 23,
   "metadata": {
    "ExecuteTime": {
     "end_time": "2020-03-03T16:11:53.914580Z",
     "start_time": "2020-03-03T16:11:53.909580Z"
    }
   },
   "outputs": [],
   "source": [
    "# Your code here; visualize the training / validation history associated with fitting the model"
   ]
  },
  {
   "cell_type": "code",
   "execution_count": 24,
   "metadata": {
    "ExecuteTime": {
     "end_time": "2020-03-03T16:11:54.558605Z",
     "start_time": "2020-03-03T16:11:53.922582Z"
    }
   },
   "outputs": [
    {
     "data": {
      "image/png": "[encoded data removed]",
      "text/plain": [
       "<Figure size 432x288 with 1 Axes>"
      ]
     },
     "metadata": {
      "needs_background": "light"
     },
     "output_type": "display_data"
    },
    {
     "data": {
      "image/png": "[encoded data removed]",
      "text/plain": [
       "<Figure size 432x288 with 1 Axes>"
      ]
     },
     "metadata": {
      "needs_background": "light"
     },
     "output_type": "display_data"
    }
   ],
   "source": [
    "import matplotlib.pyplot as plt\n",
    "%matplotlib inline \n",
    "\n",
    "acc = history.history['acc']\n",
    "val_acc = history.history['val_acc']\n",
    "loss = history.history['loss']\n",
    "val_loss = history.history['val_loss']\n",
    "epochs = range(len(acc))\n",
    "plt.plot(epochs, acc, 'bo', label='Training acc')\n",
    "plt.plot(epochs, val_acc, 'b', label='Validation acc')\n",
    "plt.title('Training and validation accuracy')\n",
    "plt.legend()\n",
    "plt.figure()\n",
    "plt.plot(epochs, loss, 'bo', label='Training loss')\n",
    "plt.plot(epochs, val_loss, 'b', label='Validation loss')\n",
    "plt.title('Training and validation loss')\n",
    "plt.legend()\n",
    "plt.show()"
   ]
  },
  {
   "cell_type": "code",
   "execution_count": 25,
   "metadata": {
    "ExecuteTime": {
     "end_time": "2020-03-03T16:11:55.447182Z",
     "start_time": "2020-03-03T16:11:54.562581Z"
    }
   },
   "outputs": [],
   "source": [
    "# Save model\n",
    "cnn.save('vgg19_3breeds_4epochs.h5')\n",
    "import pickle\n",
    "\n",
    "with open('history_vgg19__3breeds_4epochs.pickle', 'wb') as f:\n",
    "    # Pickle the 'data' dictionary using the highest protocol available\n",
    "    pickle.dump(history, f, pickle.HIGHEST_PROTOCOL)"
   ]
  },
  {
   "cell_type": "markdown",
   "metadata": {},
   "source": [
    "## Final Model Evaluation\n",
    "\n",
    "Now that you've trained and validated the model, perform a final evaluation of the model on the test set."
   ]
  },
  {
   "cell_type": "code",
   "execution_count": 26,
   "metadata": {
    "ExecuteTime": {
     "end_time": "2020-03-03T16:25:38.923096Z",
     "start_time": "2020-03-03T16:11:55.451185Z"
    }
   },
   "outputs": [
    {
     "name": "stdout",
     "output_type": "stream",
     "text": [
      "Found 101 images belonging to 3 classes.\n",
      "Generated 909 predictions\n",
      "test acc: 0.5676567554473877\n"
     ]
    }
   ],
   "source": [
    "test_generator = test_datagen.flow_from_directory(test_dir,\n",
    "                                                  target_size=(240, 240),\n",
    "                                                  batch_size=20,\n",
    "                                                  class_mode='categorical',\n",
    "                                                  shuffle=False)\n",
    "\n",
    "test_loss, test_acc = cnn.evaluate_generator(test_generator, steps=54)\n",
    "y_hat_test = cnn.predict_generator(test_generator, steps=54)\n",
    "print('Generated {} predictions'.format(len(y_hat_test)))\n",
    "print('test acc:', test_acc)\n",
    "# Found 30 images belonging to 3 classes.\n",
    "# Generated 810 predictions\n",
    "# test acc: 0.7086419760261053\n",
    "\n",
    "# model. results\n",
    "# Found 58 images belonging to 3 classes.\n",
    "# Generated 1044 predictions\n",
    "# test acc: 0.6293103694915771"
   ]
  },
  {
   "cell_type": "markdown",
   "metadata": {},
   "source": [
    "## Summary\n",
    "\n",
    "Congratulations! In this lab, you brought all of your prior deep learning skills together from preprocessing including one-hot encoding, to adapting a pretrained model. There are always ongoing advancements in CNN architectures and best practices, but you have a solid foundation and understanding at this point."
   ]
  }
 ],
 "metadata": {
  "kernelspec": {
   "display_name": "Python 3",
   "language": "python",
   "name": "python3"
  },
  "language_info": {
   "codemirror_mode": {
    "name": "ipython",
    "version": 3
   },
   "file_extension": ".py",
   "mimetype": "text/x-python",
   "name": "python",
   "nbconvert_exporter": "python",
   "pygments_lexer": "ipython3",
   "version": "3.6.6"
  },
  "toc": {
   "base_numbering": 1,
   "nav_menu": {},
   "number_sections": true,
   "sideBar": true,
   "skip_h1_title": false,
   "title_cell": "Table of Contents",
   "title_sidebar": "Contents",
   "toc_cell": false,
   "toc_position": {},
   "toc_section_display": true,
   "toc_window_display": false
  },
  "varInspector": {
   "cols": {
    "lenName": 16,
    "lenType": 16,
    "lenVar": 40
   },
   "kernels_config": {
    "python": {
     "delete_cmd_postfix": "",
     "delete_cmd_prefix": "del ",
     "library": "var_list.py",
     "varRefreshCmd": "print(var_dic_list())"
    },
    "r": {
     "delete_cmd_postfix": ") ",
     "delete_cmd_prefix": "rm(",
     "library": "var_list.r",
     "varRefreshCmd": "cat(var_dic_list()) "
    }
   },
   "types_to_exclude": [
    "module",
    "function",
    "builtin_function_or_method",
    "instance",
    "_Feature"
   ],
   "window_display": false
  }
 },
 "nbformat": 4,
 "nbformat_minor": 2
}
